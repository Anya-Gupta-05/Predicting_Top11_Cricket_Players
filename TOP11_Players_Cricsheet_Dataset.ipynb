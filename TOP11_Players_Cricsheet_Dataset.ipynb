{
  "nbformat": 4,
  "nbformat_minor": 0,
  "metadata": {
    "colab": {
      "provenance": [],
      "authorship_tag": "ABX9TyMGx6HfAtR7LA5bHXe8+C+Q",
      "include_colab_link": true
    },
    "kernelspec": {
      "name": "python3",
      "display_name": "Python 3"
    },
    "language_info": {
      "name": "python"
    }
  },
  "cells": [
    {
      "cell_type": "markdown",
      "metadata": {
        "id": "view-in-github",
        "colab_type": "text"
      },
      "source": [
        "<a href=\"https://colab.research.google.com/github/Anya-Gupta-05/Predicting_Top11_Cricket_Players/blob/main/TOP11_Players_Cricsheet_Dataset.ipynb\" target=\"_parent\"><img src=\"https://colab.research.google.com/assets/colab-badge.svg\" alt=\"Open In Colab\"/></a>"
      ]
    },
    {
      "cell_type": "code",
      "execution_count": null,
      "metadata": {
        "colab": {
          "base_uri": "https://localhost:8080/",
          "height": 73
        },
        "id": "ut_RBuf-lmCg",
        "outputId": "63cf0a52-d17c-47f5-e61f-b1ac9b5114c5"
      },
      "outputs": [
        {
          "output_type": "display_data",
          "data": {
            "text/plain": [
              "<IPython.core.display.HTML object>"
            ],
            "text/html": [
              "\n",
              "     <input type=\"file\" id=\"files-11c35fb2-7d27-4abf-9a7c-c69046347950\" name=\"files[]\" multiple disabled\n",
              "        style=\"border:none\" />\n",
              "     <output id=\"result-11c35fb2-7d27-4abf-9a7c-c69046347950\">\n",
              "      Upload widget is only available when the cell has been executed in the\n",
              "      current browser session. Please rerun this cell to enable.\n",
              "      </output>\n",
              "      <script>// Copyright 2017 Google LLC\n",
              "//\n",
              "// Licensed under the Apache License, Version 2.0 (the \"License\");\n",
              "// you may not use this file except in compliance with the License.\n",
              "// You may obtain a copy of the License at\n",
              "//\n",
              "//      http://www.apache.org/licenses/LICENSE-2.0\n",
              "//\n",
              "// Unless required by applicable law or agreed to in writing, software\n",
              "// distributed under the License is distributed on an \"AS IS\" BASIS,\n",
              "// WITHOUT WARRANTIES OR CONDITIONS OF ANY KIND, either express or implied.\n",
              "// See the License for the specific language governing permissions and\n",
              "// limitations under the License.\n",
              "\n",
              "/**\n",
              " * @fileoverview Helpers for google.colab Python module.\n",
              " */\n",
              "(function(scope) {\n",
              "function span(text, styleAttributes = {}) {\n",
              "  const element = document.createElement('span');\n",
              "  element.textContent = text;\n",
              "  for (const key of Object.keys(styleAttributes)) {\n",
              "    element.style[key] = styleAttributes[key];\n",
              "  }\n",
              "  return element;\n",
              "}\n",
              "\n",
              "// Max number of bytes which will be uploaded at a time.\n",
              "const MAX_PAYLOAD_SIZE = 100 * 1024;\n",
              "\n",
              "function _uploadFiles(inputId, outputId) {\n",
              "  const steps = uploadFilesStep(inputId, outputId);\n",
              "  const outputElement = document.getElementById(outputId);\n",
              "  // Cache steps on the outputElement to make it available for the next call\n",
              "  // to uploadFilesContinue from Python.\n",
              "  outputElement.steps = steps;\n",
              "\n",
              "  return _uploadFilesContinue(outputId);\n",
              "}\n",
              "\n",
              "// This is roughly an async generator (not supported in the browser yet),\n",
              "// where there are multiple asynchronous steps and the Python side is going\n",
              "// to poll for completion of each step.\n",
              "// This uses a Promise to block the python side on completion of each step,\n",
              "// then passes the result of the previous step as the input to the next step.\n",
              "function _uploadFilesContinue(outputId) {\n",
              "  const outputElement = document.getElementById(outputId);\n",
              "  const steps = outputElement.steps;\n",
              "\n",
              "  const next = steps.next(outputElement.lastPromiseValue);\n",
              "  return Promise.resolve(next.value.promise).then((value) => {\n",
              "    // Cache the last promise value to make it available to the next\n",
              "    // step of the generator.\n",
              "    outputElement.lastPromiseValue = value;\n",
              "    return next.value.response;\n",
              "  });\n",
              "}\n",
              "\n",
              "/**\n",
              " * Generator function which is called between each async step of the upload\n",
              " * process.\n",
              " * @param {string} inputId Element ID of the input file picker element.\n",
              " * @param {string} outputId Element ID of the output display.\n",
              " * @return {!Iterable<!Object>} Iterable of next steps.\n",
              " */\n",
              "function* uploadFilesStep(inputId, outputId) {\n",
              "  const inputElement = document.getElementById(inputId);\n",
              "  inputElement.disabled = false;\n",
              "\n",
              "  const outputElement = document.getElementById(outputId);\n",
              "  outputElement.innerHTML = '';\n",
              "\n",
              "  const pickedPromise = new Promise((resolve) => {\n",
              "    inputElement.addEventListener('change', (e) => {\n",
              "      resolve(e.target.files);\n",
              "    });\n",
              "  });\n",
              "\n",
              "  const cancel = document.createElement('button');\n",
              "  inputElement.parentElement.appendChild(cancel);\n",
              "  cancel.textContent = 'Cancel upload';\n",
              "  const cancelPromise = new Promise((resolve) => {\n",
              "    cancel.onclick = () => {\n",
              "      resolve(null);\n",
              "    };\n",
              "  });\n",
              "\n",
              "  // Wait for the user to pick the files.\n",
              "  const files = yield {\n",
              "    promise: Promise.race([pickedPromise, cancelPromise]),\n",
              "    response: {\n",
              "      action: 'starting',\n",
              "    }\n",
              "  };\n",
              "\n",
              "  cancel.remove();\n",
              "\n",
              "  // Disable the input element since further picks are not allowed.\n",
              "  inputElement.disabled = true;\n",
              "\n",
              "  if (!files) {\n",
              "    return {\n",
              "      response: {\n",
              "        action: 'complete',\n",
              "      }\n",
              "    };\n",
              "  }\n",
              "\n",
              "  for (const file of files) {\n",
              "    const li = document.createElement('li');\n",
              "    li.append(span(file.name, {fontWeight: 'bold'}));\n",
              "    li.append(span(\n",
              "        `(${file.type || 'n/a'}) - ${file.size} bytes, ` +\n",
              "        `last modified: ${\n",
              "            file.lastModifiedDate ? file.lastModifiedDate.toLocaleDateString() :\n",
              "                                    'n/a'} - `));\n",
              "    const percent = span('0% done');\n",
              "    li.appendChild(percent);\n",
              "\n",
              "    outputElement.appendChild(li);\n",
              "\n",
              "    const fileDataPromise = new Promise((resolve) => {\n",
              "      const reader = new FileReader();\n",
              "      reader.onload = (e) => {\n",
              "        resolve(e.target.result);\n",
              "      };\n",
              "      reader.readAsArrayBuffer(file);\n",
              "    });\n",
              "    // Wait for the data to be ready.\n",
              "    let fileData = yield {\n",
              "      promise: fileDataPromise,\n",
              "      response: {\n",
              "        action: 'continue',\n",
              "      }\n",
              "    };\n",
              "\n",
              "    // Use a chunked sending to avoid message size limits. See b/62115660.\n",
              "    let position = 0;\n",
              "    do {\n",
              "      const length = Math.min(fileData.byteLength - position, MAX_PAYLOAD_SIZE);\n",
              "      const chunk = new Uint8Array(fileData, position, length);\n",
              "      position += length;\n",
              "\n",
              "      const base64 = btoa(String.fromCharCode.apply(null, chunk));\n",
              "      yield {\n",
              "        response: {\n",
              "          action: 'append',\n",
              "          file: file.name,\n",
              "          data: base64,\n",
              "        },\n",
              "      };\n",
              "\n",
              "      let percentDone = fileData.byteLength === 0 ?\n",
              "          100 :\n",
              "          Math.round((position / fileData.byteLength) * 100);\n",
              "      percent.textContent = `${percentDone}% done`;\n",
              "\n",
              "    } while (position < fileData.byteLength);\n",
              "  }\n",
              "\n",
              "  // All done.\n",
              "  yield {\n",
              "    response: {\n",
              "      action: 'complete',\n",
              "    }\n",
              "  };\n",
              "}\n",
              "\n",
              "scope.google = scope.google || {};\n",
              "scope.google.colab = scope.google.colab || {};\n",
              "scope.google.colab._files = {\n",
              "  _uploadFiles,\n",
              "  _uploadFilesContinue,\n",
              "};\n",
              "})(self);\n",
              "</script> "
            ]
          },
          "metadata": {}
        },
        {
          "output_type": "stream",
          "name": "stdout",
          "text": [
            "Saving t20s_json.zip to t20s_json.zip\n"
          ]
        }
      ],
      "source": [
        "from google.colab import files\n",
        "uploaded = files.upload()\n"
      ]
    },
    {
      "cell_type": "code",
      "source": [
        "import matplotlib.pyplot as plt\n",
        "import pandas as pd\n",
        "import numpy as np\n",
        "from sklearn.preprocessing import LabelEncoder\n",
        "import tensorflow as tf\n",
        "from tensorflow.keras.models import Sequential\n",
        "from tensorflow.keras.layers import LSTM, Dense, Dropout\n",
        "\n"
      ],
      "metadata": {
        "id": "-v_bZqt9MRCK"
      },
      "execution_count": null,
      "outputs": []
    },
    {
      "cell_type": "code",
      "source": [
        "import zipfile\n",
        "import os\n",
        "\n",
        "# Replace with your actual uploaded filename\n",
        "zip_path = \"t20s_json.zip\"\n",
        "\n",
        "with zipfile.ZipFile(zip_path, 'r') as zip_ref:\n",
        "    zip_ref.extractall(\"t20_data\")  # Extracts into a folder named 't20_data'\n"
      ],
      "metadata": {
        "id": "PbzEAyzeoY-G"
      },
      "execution_count": null,
      "outputs": []
    },
    {
      "cell_type": "code",
      "source": [
        "import os\n",
        "\n",
        "json_files = os.listdir(\"t20_data\")\n",
        "print(json_files[:5])  # Print first 5 files for sanity check\n"
      ],
      "metadata": {
        "colab": {
          "base_uri": "https://localhost:8080/"
        },
        "id": "IgyF50gSqDde",
        "outputId": "63e563f3-36ec-4e47-9651-c99233d58cbc"
      },
      "execution_count": null,
      "outputs": [
        {
          "output_type": "stream",
          "name": "stdout",
          "text": [
            "['391794.json', '895789.json', '1425651.json', '1432225.json', '1479933.json']\n"
          ]
        }
      ]
    },
    {
      "cell_type": "code",
      "source": [
        "import json\n",
        "import pandas as pd\n",
        "\n",
        "# Example: load the first JSON file\n",
        "file_path=os.path.join(\"t20_data\",json_files[0])\n",
        "with open(file_path,'r') as f:\n",
        "  data=json.load(f)\n",
        "\n",
        "import pprint\n",
        "pprint.pprint(data.keys())"
      ],
      "metadata": {
        "colab": {
          "base_uri": "https://localhost:8080/"
        },
        "id": "K8wjMlVcqNKP",
        "outputId": "bfbe8ebe-6047-4ee5-c632-26e8fd0eb5cb"
      },
      "execution_count": null,
      "outputs": [
        {
          "output_type": "stream",
          "name": "stdout",
          "text": [
            "dict_keys(['meta', 'info', 'innings'])\n"
          ]
        }
      ]
    },
    {
      "cell_type": "code",
      "source": [
        "\n",
        "# Directory with extracted JSONs\n",
        "json_dir = \"t20_data\"\n",
        "\n",
        "# Store all records\n",
        "records = []\n",
        "\n",
        "for file in os.listdir(json_dir):\n",
        "    if not file.endswith(\".json\"):\n",
        "        continue\n",
        "\n",
        "    path = os.path.join(json_dir, file)\n",
        "\n",
        "    with open(path, 'r') as f:\n",
        "        data = json.load(f)\n",
        "\n",
        "    teams = data['info']['teams']\n",
        "    if 'India' not in teams:\n",
        "        continue  # Skip if India didn't play\n",
        "\n",
        "    match_date = data['info'].get('dates', [None])[0]\n",
        "    venue = data['info'].get('venue', None)\n",
        "    opposition = [team for team in teams if team != 'India'][0]\n",
        "\n",
        "    # Loop through innings\n",
        "    for inning in data['innings']:\n",
        "        team_name = inning['team']\n",
        "        deliveries = inning['overs'] if 'overs' in inning else inning['deliveries']\n",
        "\n",
        "        for over in deliveries:\n",
        "            for delivery in over.get('deliveries', []) if isinstance(over, dict) and 'deliveries' in over else [over]:\n",
        "                # Batsman data\n",
        "                batsman = delivery['batter']\n",
        "                runs = delivery['runs']['batter']\n",
        "                total_runs = delivery['runs']['total']\n",
        "                non_boundary = 0 if delivery['runs']['batter'] >= 4 else 1\n",
        "\n",
        "                # Wicket data\n",
        "                wicket = delivery.get('wickets', [])\n",
        "                dismissed = None\n",
        "                if wicket:\n",
        "                    dismissed = wicket[0].get('player_out')\n",
        "\n",
        "                # Bowler data\n",
        "                bowler = delivery['bowler']\n",
        "                bowler_runs = delivery['runs']['total']\n",
        "                is_wicket = 1 if wicket else 0\n",
        "\n",
        "                # Only include Indian players\n",
        "                if team_name == 'India' or bowler in teams:\n",
        "                    if team_name == 'India':\n",
        "                        records.append({\n",
        "                            'player': batsman,\n",
        "                            'runs': runs,\n",
        "                            'balls': 1,\n",
        "                            'dismissed': dismissed,\n",
        "                            'opponent': opposition,\n",
        "                            'date': match_date,\n",
        "                            'venue': venue,\n",
        "                            'type': 'batting'\n",
        "                        })\n",
        "                    if bowler in teams and team_name != 'India':  # Bowler is Indian, team is opposition\n",
        "                        records.append({\n",
        "                            'player': bowler,\n",
        "                            'runs_conceded': bowler_runs,\n",
        "                            'wicket': is_wicket,\n",
        "                            'balls_bowled': 1,\n",
        "                            'opponent': team_name,\n",
        "                            'date': match_date,\n",
        "                            'venue': venue,\n",
        "                            'type': 'bowling'\n",
        "                        })\n",
        "\n",
        "# Convert to DataFrame\n",
        "df_india = pd.DataFrame(records)\n",
        "print(df_india)\n"
      ],
      "metadata": {
        "colab": {
          "base_uri": "https://localhost:8080/"
        },
        "id": "1_xslSvfqXPq",
        "outputId": "46b77ed8-2a48-4641-d170-d8c4039f2879"
      },
      "execution_count": null,
      "outputs": [
        {
          "output_type": "stream",
          "name": "stdout",
          "text": [
            "                  player  runs  balls dismissed    opponent        date  \\\n",
            "0                  M Raj     0      1      None   Australia  2016-01-29   \n",
            "1                  M Raj     0      1      None   Australia  2016-01-29   \n",
            "2                  M Raj     0      1      None   Australia  2016-01-29   \n",
            "3                  M Raj     0      1      None   Australia  2016-01-29   \n",
            "4                  M Raj     0      1      None   Australia  2016-01-29   \n",
            "...                  ...   ...    ...       ...         ...         ...   \n",
            "43891  Washington Sundar     0      1      None  Bangladesh  2019-11-03   \n",
            "43892          KH Pandya     1      1      None  Bangladesh  2019-11-03   \n",
            "43893  Washington Sundar     6      1      None  Bangladesh  2019-11-03   \n",
            "43894  Washington Sundar     1      1      None  Bangladesh  2019-11-03   \n",
            "43895          KH Pandya     6      1      None  Bangladesh  2019-11-03   \n",
            "\n",
            "                          venue     type  \n",
            "0      Melbourne Cricket Ground  batting  \n",
            "1      Melbourne Cricket Ground  batting  \n",
            "2      Melbourne Cricket Ground  batting  \n",
            "3      Melbourne Cricket Ground  batting  \n",
            "4      Melbourne Cricket Ground  batting  \n",
            "...                         ...      ...  \n",
            "43891      Arun Jaitley Stadium  batting  \n",
            "43892      Arun Jaitley Stadium  batting  \n",
            "43893      Arun Jaitley Stadium  batting  \n",
            "43894      Arun Jaitley Stadium  batting  \n",
            "43895      Arun Jaitley Stadium  batting  \n",
            "\n",
            "[43896 rows x 8 columns]\n"
          ]
        }
      ]
    },
    {
      "cell_type": "code",
      "source": [
        "\n",
        "from datetime import datetime\n",
        "\n",
        "# Convert date column to datetime format\n",
        "df_india['date'] = pd.to_datetime(df_india['date'])\n",
        "# Define the cutoff date (5 years ago from today)\n",
        "cutoff_date = pd.to_datetime(\"2020-06-10\")\n",
        "\n",
        "# Filter the DataFrame\n",
        "df_last5 = df_india[df_india['date'] >= cutoff_date]\n",
        "print(df_last5['date'].min())  # Should be around mid-2020 or later\n",
        "print(df_last5.shape)          # Check number of rows\n",
        "\n",
        "\n"
      ],
      "metadata": {
        "colab": {
          "base_uri": "https://localhost:8080/"
        },
        "id": "tTNliO6_ruSU",
        "outputId": "1d7ce7a1-ea25-4430-a381-e3d36522e0a5"
      },
      "execution_count": null,
      "outputs": [
        {
          "output_type": "stream",
          "name": "stdout",
          "text": [
            "2020-12-04 00:00:00\n",
            "(20594, 8)\n"
          ]
        }
      ]
    },
    {
      "cell_type": "code",
      "source": [
        "df_last5.head()"
      ],
      "metadata": {
        "colab": {
          "base_uri": "https://localhost:8080/",
          "height": 206
        },
        "id": "nVOnxINdslku",
        "outputId": "913d4d81-6500-473f-a425-ad5b1f22afa1"
      },
      "execution_count": null,
      "outputs": [
        {
          "output_type": "execute_result",
          "data": {
            "text/plain": [
              "        player  runs  balls dismissed opponent       date  \\\n",
              "301  RG Sharma     6      1      None  England 2021-03-18   \n",
              "302  RG Sharma     0      1      None  England 2021-03-18   \n",
              "303  RG Sharma     4      1      None  England 2021-03-18   \n",
              "304  RG Sharma     0      1      None  England 2021-03-18   \n",
              "305  RG Sharma     1      1      None  England 2021-03-18   \n",
              "\n",
              "                     venue     type  \n",
              "301  Narendra Modi Stadium  batting  \n",
              "302  Narendra Modi Stadium  batting  \n",
              "303  Narendra Modi Stadium  batting  \n",
              "304  Narendra Modi Stadium  batting  \n",
              "305  Narendra Modi Stadium  batting  "
            ],
            "text/html": [
              "\n",
              "  <div id=\"df-2dc04dd7-1f97-48ad-94f6-18e3d2a4e74c\" class=\"colab-df-container\">\n",
              "    <div>\n",
              "<style scoped>\n",
              "    .dataframe tbody tr th:only-of-type {\n",
              "        vertical-align: middle;\n",
              "    }\n",
              "\n",
              "    .dataframe tbody tr th {\n",
              "        vertical-align: top;\n",
              "    }\n",
              "\n",
              "    .dataframe thead th {\n",
              "        text-align: right;\n",
              "    }\n",
              "</style>\n",
              "<table border=\"1\" class=\"dataframe\">\n",
              "  <thead>\n",
              "    <tr style=\"text-align: right;\">\n",
              "      <th></th>\n",
              "      <th>player</th>\n",
              "      <th>runs</th>\n",
              "      <th>balls</th>\n",
              "      <th>dismissed</th>\n",
              "      <th>opponent</th>\n",
              "      <th>date</th>\n",
              "      <th>venue</th>\n",
              "      <th>type</th>\n",
              "    </tr>\n",
              "  </thead>\n",
              "  <tbody>\n",
              "    <tr>\n",
              "      <th>301</th>\n",
              "      <td>RG Sharma</td>\n",
              "      <td>6</td>\n",
              "      <td>1</td>\n",
              "      <td>None</td>\n",
              "      <td>England</td>\n",
              "      <td>2021-03-18</td>\n",
              "      <td>Narendra Modi Stadium</td>\n",
              "      <td>batting</td>\n",
              "    </tr>\n",
              "    <tr>\n",
              "      <th>302</th>\n",
              "      <td>RG Sharma</td>\n",
              "      <td>0</td>\n",
              "      <td>1</td>\n",
              "      <td>None</td>\n",
              "      <td>England</td>\n",
              "      <td>2021-03-18</td>\n",
              "      <td>Narendra Modi Stadium</td>\n",
              "      <td>batting</td>\n",
              "    </tr>\n",
              "    <tr>\n",
              "      <th>303</th>\n",
              "      <td>RG Sharma</td>\n",
              "      <td>4</td>\n",
              "      <td>1</td>\n",
              "      <td>None</td>\n",
              "      <td>England</td>\n",
              "      <td>2021-03-18</td>\n",
              "      <td>Narendra Modi Stadium</td>\n",
              "      <td>batting</td>\n",
              "    </tr>\n",
              "    <tr>\n",
              "      <th>304</th>\n",
              "      <td>RG Sharma</td>\n",
              "      <td>0</td>\n",
              "      <td>1</td>\n",
              "      <td>None</td>\n",
              "      <td>England</td>\n",
              "      <td>2021-03-18</td>\n",
              "      <td>Narendra Modi Stadium</td>\n",
              "      <td>batting</td>\n",
              "    </tr>\n",
              "    <tr>\n",
              "      <th>305</th>\n",
              "      <td>RG Sharma</td>\n",
              "      <td>1</td>\n",
              "      <td>1</td>\n",
              "      <td>None</td>\n",
              "      <td>England</td>\n",
              "      <td>2021-03-18</td>\n",
              "      <td>Narendra Modi Stadium</td>\n",
              "      <td>batting</td>\n",
              "    </tr>\n",
              "  </tbody>\n",
              "</table>\n",
              "</div>\n",
              "    <div class=\"colab-df-buttons\">\n",
              "\n",
              "  <div class=\"colab-df-container\">\n",
              "    <button class=\"colab-df-convert\" onclick=\"convertToInteractive('df-2dc04dd7-1f97-48ad-94f6-18e3d2a4e74c')\"\n",
              "            title=\"Convert this dataframe to an interactive table.\"\n",
              "            style=\"display:none;\">\n",
              "\n",
              "  <svg xmlns=\"http://www.w3.org/2000/svg\" height=\"24px\" viewBox=\"0 -960 960 960\">\n",
              "    <path d=\"M120-120v-720h720v720H120Zm60-500h600v-160H180v160Zm220 220h160v-160H400v160Zm0 220h160v-160H400v160ZM180-400h160v-160H180v160Zm440 0h160v-160H620v160ZM180-180h160v-160H180v160Zm440 0h160v-160H620v160Z\"/>\n",
              "  </svg>\n",
              "    </button>\n",
              "\n",
              "  <style>\n",
              "    .colab-df-container {\n",
              "      display:flex;\n",
              "      gap: 12px;\n",
              "    }\n",
              "\n",
              "    .colab-df-convert {\n",
              "      background-color: #E8F0FE;\n",
              "      border: none;\n",
              "      border-radius: 50%;\n",
              "      cursor: pointer;\n",
              "      display: none;\n",
              "      fill: #1967D2;\n",
              "      height: 32px;\n",
              "      padding: 0 0 0 0;\n",
              "      width: 32px;\n",
              "    }\n",
              "\n",
              "    .colab-df-convert:hover {\n",
              "      background-color: #E2EBFA;\n",
              "      box-shadow: 0px 1px 2px rgba(60, 64, 67, 0.3), 0px 1px 3px 1px rgba(60, 64, 67, 0.15);\n",
              "      fill: #174EA6;\n",
              "    }\n",
              "\n",
              "    .colab-df-buttons div {\n",
              "      margin-bottom: 4px;\n",
              "    }\n",
              "\n",
              "    [theme=dark] .colab-df-convert {\n",
              "      background-color: #3B4455;\n",
              "      fill: #D2E3FC;\n",
              "    }\n",
              "\n",
              "    [theme=dark] .colab-df-convert:hover {\n",
              "      background-color: #434B5C;\n",
              "      box-shadow: 0px 1px 3px 1px rgba(0, 0, 0, 0.15);\n",
              "      filter: drop-shadow(0px 1px 2px rgba(0, 0, 0, 0.3));\n",
              "      fill: #FFFFFF;\n",
              "    }\n",
              "  </style>\n",
              "\n",
              "    <script>\n",
              "      const buttonEl =\n",
              "        document.querySelector('#df-2dc04dd7-1f97-48ad-94f6-18e3d2a4e74c button.colab-df-convert');\n",
              "      buttonEl.style.display =\n",
              "        google.colab.kernel.accessAllowed ? 'block' : 'none';\n",
              "\n",
              "      async function convertToInteractive(key) {\n",
              "        const element = document.querySelector('#df-2dc04dd7-1f97-48ad-94f6-18e3d2a4e74c');\n",
              "        const dataTable =\n",
              "          await google.colab.kernel.invokeFunction('convertToInteractive',\n",
              "                                                    [key], {});\n",
              "        if (!dataTable) return;\n",
              "\n",
              "        const docLinkHtml = 'Like what you see? Visit the ' +\n",
              "          '<a target=\"_blank\" href=https://colab.research.google.com/notebooks/data_table.ipynb>data table notebook</a>'\n",
              "          + ' to learn more about interactive tables.';\n",
              "        element.innerHTML = '';\n",
              "        dataTable['output_type'] = 'display_data';\n",
              "        await google.colab.output.renderOutput(dataTable, element);\n",
              "        const docLink = document.createElement('div');\n",
              "        docLink.innerHTML = docLinkHtml;\n",
              "        element.appendChild(docLink);\n",
              "      }\n",
              "    </script>\n",
              "  </div>\n",
              "\n",
              "\n",
              "    <div id=\"df-373b0c77-7690-4eef-a6fc-c538fb8c90d7\">\n",
              "      <button class=\"colab-df-quickchart\" onclick=\"quickchart('df-373b0c77-7690-4eef-a6fc-c538fb8c90d7')\"\n",
              "                title=\"Suggest charts\"\n",
              "                style=\"display:none;\">\n",
              "\n",
              "<svg xmlns=\"http://www.w3.org/2000/svg\" height=\"24px\"viewBox=\"0 0 24 24\"\n",
              "     width=\"24px\">\n",
              "    <g>\n",
              "        <path d=\"M19 3H5c-1.1 0-2 .9-2 2v14c0 1.1.9 2 2 2h14c1.1 0 2-.9 2-2V5c0-1.1-.9-2-2-2zM9 17H7v-7h2v7zm4 0h-2V7h2v10zm4 0h-2v-4h2v4z\"/>\n",
              "    </g>\n",
              "</svg>\n",
              "      </button>\n",
              "\n",
              "<style>\n",
              "  .colab-df-quickchart {\n",
              "      --bg-color: #E8F0FE;\n",
              "      --fill-color: #1967D2;\n",
              "      --hover-bg-color: #E2EBFA;\n",
              "      --hover-fill-color: #174EA6;\n",
              "      --disabled-fill-color: #AAA;\n",
              "      --disabled-bg-color: #DDD;\n",
              "  }\n",
              "\n",
              "  [theme=dark] .colab-df-quickchart {\n",
              "      --bg-color: #3B4455;\n",
              "      --fill-color: #D2E3FC;\n",
              "      --hover-bg-color: #434B5C;\n",
              "      --hover-fill-color: #FFFFFF;\n",
              "      --disabled-bg-color: #3B4455;\n",
              "      --disabled-fill-color: #666;\n",
              "  }\n",
              "\n",
              "  .colab-df-quickchart {\n",
              "    background-color: var(--bg-color);\n",
              "    border: none;\n",
              "    border-radius: 50%;\n",
              "    cursor: pointer;\n",
              "    display: none;\n",
              "    fill: var(--fill-color);\n",
              "    height: 32px;\n",
              "    padding: 0;\n",
              "    width: 32px;\n",
              "  }\n",
              "\n",
              "  .colab-df-quickchart:hover {\n",
              "    background-color: var(--hover-bg-color);\n",
              "    box-shadow: 0 1px 2px rgba(60, 64, 67, 0.3), 0 1px 3px 1px rgba(60, 64, 67, 0.15);\n",
              "    fill: var(--button-hover-fill-color);\n",
              "  }\n",
              "\n",
              "  .colab-df-quickchart-complete:disabled,\n",
              "  .colab-df-quickchart-complete:disabled:hover {\n",
              "    background-color: var(--disabled-bg-color);\n",
              "    fill: var(--disabled-fill-color);\n",
              "    box-shadow: none;\n",
              "  }\n",
              "\n",
              "  .colab-df-spinner {\n",
              "    border: 2px solid var(--fill-color);\n",
              "    border-color: transparent;\n",
              "    border-bottom-color: var(--fill-color);\n",
              "    animation:\n",
              "      spin 1s steps(1) infinite;\n",
              "  }\n",
              "\n",
              "  @keyframes spin {\n",
              "    0% {\n",
              "      border-color: transparent;\n",
              "      border-bottom-color: var(--fill-color);\n",
              "      border-left-color: var(--fill-color);\n",
              "    }\n",
              "    20% {\n",
              "      border-color: transparent;\n",
              "      border-left-color: var(--fill-color);\n",
              "      border-top-color: var(--fill-color);\n",
              "    }\n",
              "    30% {\n",
              "      border-color: transparent;\n",
              "      border-left-color: var(--fill-color);\n",
              "      border-top-color: var(--fill-color);\n",
              "      border-right-color: var(--fill-color);\n",
              "    }\n",
              "    40% {\n",
              "      border-color: transparent;\n",
              "      border-right-color: var(--fill-color);\n",
              "      border-top-color: var(--fill-color);\n",
              "    }\n",
              "    60% {\n",
              "      border-color: transparent;\n",
              "      border-right-color: var(--fill-color);\n",
              "    }\n",
              "    80% {\n",
              "      border-color: transparent;\n",
              "      border-right-color: var(--fill-color);\n",
              "      border-bottom-color: var(--fill-color);\n",
              "    }\n",
              "    90% {\n",
              "      border-color: transparent;\n",
              "      border-bottom-color: var(--fill-color);\n",
              "    }\n",
              "  }\n",
              "</style>\n",
              "\n",
              "      <script>\n",
              "        async function quickchart(key) {\n",
              "          const quickchartButtonEl =\n",
              "            document.querySelector('#' + key + ' button');\n",
              "          quickchartButtonEl.disabled = true;  // To prevent multiple clicks.\n",
              "          quickchartButtonEl.classList.add('colab-df-spinner');\n",
              "          try {\n",
              "            const charts = await google.colab.kernel.invokeFunction(\n",
              "                'suggestCharts', [key], {});\n",
              "          } catch (error) {\n",
              "            console.error('Error during call to suggestCharts:', error);\n",
              "          }\n",
              "          quickchartButtonEl.classList.remove('colab-df-spinner');\n",
              "          quickchartButtonEl.classList.add('colab-df-quickchart-complete');\n",
              "        }\n",
              "        (() => {\n",
              "          let quickchartButtonEl =\n",
              "            document.querySelector('#df-373b0c77-7690-4eef-a6fc-c538fb8c90d7 button');\n",
              "          quickchartButtonEl.style.display =\n",
              "            google.colab.kernel.accessAllowed ? 'block' : 'none';\n",
              "        })();\n",
              "      </script>\n",
              "    </div>\n",
              "\n",
              "    </div>\n",
              "  </div>\n"
            ],
            "application/vnd.google.colaboratory.intrinsic+json": {
              "type": "dataframe",
              "variable_name": "df_last5",
              "summary": "{\n  \"name\": \"df_last5\",\n  \"rows\": 20594,\n  \"fields\": [\n    {\n      \"column\": \"player\",\n      \"properties\": {\n        \"dtype\": \"category\",\n        \"num_unique_values\": 92,\n        \"samples\": [\n          \"S Rana\",\n          \"Arshdeep Singh\",\n          \"Renuka Singh\"\n        ],\n        \"semantic_type\": \"\",\n        \"description\": \"\"\n      }\n    },\n    {\n      \"column\": \"runs\",\n      \"properties\": {\n        \"dtype\": \"number\",\n        \"std\": 1,\n        \"min\": 0,\n        \"max\": 6,\n        \"num_unique_values\": 6,\n        \"samples\": [\n          6,\n          0,\n          3\n        ],\n        \"semantic_type\": \"\",\n        \"description\": \"\"\n      }\n    },\n    {\n      \"column\": \"balls\",\n      \"properties\": {\n        \"dtype\": \"number\",\n        \"std\": 0,\n        \"min\": 1,\n        \"max\": 1,\n        \"num_unique_values\": 1,\n        \"samples\": [\n          1\n        ],\n        \"semantic_type\": \"\",\n        \"description\": \"\"\n      }\n    },\n    {\n      \"column\": \"dismissed\",\n      \"properties\": {\n        \"dtype\": \"category\",\n        \"num_unique_values\": 82,\n        \"samples\": [\n          \"VR Iyer\"\n        ],\n        \"semantic_type\": \"\",\n        \"description\": \"\"\n      }\n    },\n    {\n      \"column\": \"opponent\",\n      \"properties\": {\n        \"dtype\": \"category\",\n        \"num_unique_values\": 20,\n        \"samples\": [\n          \"England\"\n        ],\n        \"semantic_type\": \"\",\n        \"description\": \"\"\n      }\n    },\n    {\n      \"column\": \"date\",\n      \"properties\": {\n        \"dtype\": \"date\",\n        \"min\": \"2020-12-04 00:00:00\",\n        \"max\": \"2025-02-02 00:00:00\",\n        \"num_unique_values\": 173,\n        \"samples\": [\n          \"2024-10-12 00:00:00\"\n        ],\n        \"semantic_type\": \"\",\n        \"description\": \"\"\n      }\n    },\n    {\n      \"column\": \"venue\",\n      \"properties\": {\n        \"dtype\": \"category\",\n        \"num_unique_values\": 72,\n        \"samples\": [\n          \"Dubai International Cricket Stadium\"\n        ],\n        \"semantic_type\": \"\",\n        \"description\": \"\"\n      }\n    },\n    {\n      \"column\": \"type\",\n      \"properties\": {\n        \"dtype\": \"category\",\n        \"num_unique_values\": 1,\n        \"samples\": [\n          \"batting\"\n        ],\n        \"semantic_type\": \"\",\n        \"description\": \"\"\n      }\n    }\n  ]\n}"
            }
          },
          "metadata": {},
          "execution_count": 13
        }
      ]
    },
    {
      "cell_type": "code",
      "source": [
        "df_last5.info()\n",
        "df_last5.isnull().sum()\n"
      ],
      "metadata": {
        "colab": {
          "base_uri": "https://localhost:8080/",
          "height": 595
        },
        "id": "av1EkamRs6JG",
        "outputId": "fdf7d241-b1cc-4c6e-d32f-4427730a8148"
      },
      "execution_count": null,
      "outputs": [
        {
          "output_type": "stream",
          "name": "stdout",
          "text": [
            "<class 'pandas.core.frame.DataFrame'>\n",
            "Index: 20594 entries, 301 to 43482\n",
            "Data columns (total 8 columns):\n",
            " #   Column     Non-Null Count  Dtype         \n",
            "---  ------     --------------  -----         \n",
            " 0   player     20594 non-null  object        \n",
            " 1   runs       20594 non-null  int64         \n",
            " 2   balls      20594 non-null  int64         \n",
            " 3   dismissed  961 non-null    object        \n",
            " 4   opponent   20594 non-null  object        \n",
            " 5   date       20594 non-null  datetime64[ns]\n",
            " 6   venue      20594 non-null  object        \n",
            " 7   type       20594 non-null  object        \n",
            "dtypes: datetime64[ns](1), int64(2), object(5)\n",
            "memory usage: 1.4+ MB\n"
          ]
        },
        {
          "output_type": "execute_result",
          "data": {
            "text/plain": [
              "player           0\n",
              "runs             0\n",
              "balls            0\n",
              "dismissed    19633\n",
              "opponent         0\n",
              "date             0\n",
              "venue            0\n",
              "type             0\n",
              "dtype: int64"
            ],
            "text/html": [
              "<div>\n",
              "<style scoped>\n",
              "    .dataframe tbody tr th:only-of-type {\n",
              "        vertical-align: middle;\n",
              "    }\n",
              "\n",
              "    .dataframe tbody tr th {\n",
              "        vertical-align: top;\n",
              "    }\n",
              "\n",
              "    .dataframe thead th {\n",
              "        text-align: right;\n",
              "    }\n",
              "</style>\n",
              "<table border=\"1\" class=\"dataframe\">\n",
              "  <thead>\n",
              "    <tr style=\"text-align: right;\">\n",
              "      <th></th>\n",
              "      <th>0</th>\n",
              "    </tr>\n",
              "  </thead>\n",
              "  <tbody>\n",
              "    <tr>\n",
              "      <th>player</th>\n",
              "      <td>0</td>\n",
              "    </tr>\n",
              "    <tr>\n",
              "      <th>runs</th>\n",
              "      <td>0</td>\n",
              "    </tr>\n",
              "    <tr>\n",
              "      <th>balls</th>\n",
              "      <td>0</td>\n",
              "    </tr>\n",
              "    <tr>\n",
              "      <th>dismissed</th>\n",
              "      <td>19633</td>\n",
              "    </tr>\n",
              "    <tr>\n",
              "      <th>opponent</th>\n",
              "      <td>0</td>\n",
              "    </tr>\n",
              "    <tr>\n",
              "      <th>date</th>\n",
              "      <td>0</td>\n",
              "    </tr>\n",
              "    <tr>\n",
              "      <th>venue</th>\n",
              "      <td>0</td>\n",
              "    </tr>\n",
              "    <tr>\n",
              "      <th>type</th>\n",
              "      <td>0</td>\n",
              "    </tr>\n",
              "  </tbody>\n",
              "</table>\n",
              "</div><br><label><b>dtype:</b> int64</label>"
            ]
          },
          "metadata": {},
          "execution_count": 14
        }
      ]
    },
    {
      "cell_type": "code",
      "source": [
        "print(\"Total unique players:\", df_last5['player'].nunique())\n",
        "print(df_last5['player'].value_counts().head(10))  # Top 10 players\n"
      ],
      "metadata": {
        "colab": {
          "base_uri": "https://localhost:8080/"
        },
        "id": "CYiKMsRps_SI",
        "outputId": "97fa1ea3-857d-4adb-edb8-4d632300df23"
      },
      "execution_count": null,
      "outputs": [
        {
          "output_type": "stream",
          "name": "stdout",
          "text": [
            "Total unique players: 92\n",
            "player\n",
            "S Mandhana       1677\n",
            "SA Yadav         1581\n",
            "Shafali Verma    1311\n",
            "H Kaur           1204\n",
            "JI Rodrigues     1143\n",
            "HH Pandya        1067\n",
            "V Kohli           965\n",
            "RG Sharma         896\n",
            "Ishan Kishan      669\n",
            "RM Ghosh          668\n",
            "Name: count, dtype: int64\n"
          ]
        }
      ]
    },
    {
      "cell_type": "code",
      "source": [
        "print(\"Total matches:\", df_last5[['date', 'opponent']].drop_duplicates().shape[0])\n"
      ],
      "metadata": {
        "colab": {
          "base_uri": "https://localhost:8080/"
        },
        "id": "IehJ66MatCTP",
        "outputId": "452d891b-4f63-4cad-af2a-606900ee40b6"
      },
      "execution_count": null,
      "outputs": [
        {
          "output_type": "stream",
          "name": "stdout",
          "text": [
            "Total matches: 180\n"
          ]
        }
      ]
    },
    {
      "cell_type": "code",
      "source": [
        "batting_df = df_last5[df_last5['type'] == 'batting']\n",
        "runs_by_player = batting_df.groupby('player')['runs'].sum().sort_values(ascending=False)\n",
        "print(runs_by_player.head(10))\n"
      ],
      "metadata": {
        "colab": {
          "base_uri": "https://localhost:8080/"
        },
        "id": "YkIt12DztGWX",
        "outputId": "24eb7f36-79cf-46c7-aea8-cffd61edeef5"
      },
      "execution_count": null,
      "outputs": [
        {
          "output_type": "stream",
          "name": "stdout",
          "text": [
            "player\n",
            "SA Yadav         2543\n",
            "S Mandhana       2058\n",
            "Shafali Verma    1558\n",
            "HH Pandya        1435\n",
            "H Kaur           1404\n",
            "JI Rodrigues     1337\n",
            "RG Sharma        1255\n",
            "V Kohli          1219\n",
            "RM Ghosh          942\n",
            "SV Samson         826\n",
            "Name: runs, dtype: int64\n"
          ]
        }
      ]
    },
    {
      "cell_type": "code",
      "source": [
        "import matplotlib.pyplot as plt\n",
        "\n",
        "runs_by_player.head(10).plot(kind='bar', figsize=(10, 5), title='Top 10 Indian Run Scorers (Last 5 Years)')\n",
        "plt.ylabel(\"Total Runs\")\n",
        "plt.xlabel(\"Player\")\n",
        "plt.xticks(rotation=45)\n",
        "plt.grid(True)\n",
        "plt.show()\n",
        "\n"
      ],
      "metadata": {
        "colab": {
          "base_uri": "https://localhost:8080/",
          "height": 551
        },
        "id": "XR3gwTZ7tJkv",
        "outputId": "3b72175e-58f7-42d8-d231-8076512e6893"
      },
      "execution_count": null,
      "outputs": [
        {
          "output_type": "display_data",
          "data": {
            "text/plain": [
              "<Figure size 1000x500 with 1 Axes>"
            ],
            "image/png": "[encoded data removed]"
          },
          "metadata": {}
        }
      ]
    },
    {
      "cell_type": "code",
      "source": [
        "df_last5.to_csv(\"india_last5_years.csv\", index=False)\n",
        "from google.colab import files\n",
        "files.download(\"india_last5_years.csv\")\n"
      ],
      "metadata": {
        "colab": {
          "base_uri": "https://localhost:8080/",
          "height": 17
        },
        "id": "ZT-mio_ftMWY",
        "outputId": "880609cf-7eac-42df-c573-bc2e1c499af1"
      },
      "execution_count": null,
      "outputs": [
        {
          "output_type": "display_data",
          "data": {
            "text/plain": [
              "<IPython.core.display.Javascript object>"
            ],
            "application/javascript": [
              "\n",
              "    async function download(id, filename, size) {\n",
              "      if (!google.colab.kernel.accessAllowed) {\n",
              "        return;\n",
              "      }\n",
              "      const div = document.createElement('div');\n",
              "      const label = document.createElement('label');\n",
              "      label.textContent = `Downloading \"${filename}\": `;\n",
              "      div.appendChild(label);\n",
              "      const progress = document.createElement('progress');\n",
              "      progress.max = size;\n",
              "      div.appendChild(progress);\n",
              "      document.body.appendChild(div);\n",
              "\n",
              "      const buffers = [];\n",
              "      let downloaded = 0;\n",
              "\n",
              "      const channel = await google.colab.kernel.comms.open(id);\n",
              "      // Send a message to notify the kernel that we're ready.\n",
              "      channel.send({})\n",
              "\n",
              "      for await (const message of channel.messages) {\n",
              "        // Send a message to notify the kernel that we're ready.\n",
              "        channel.send({})\n",
              "        if (message.buffers) {\n",
              "          for (const buffer of message.buffers) {\n",
              "            buffers.push(buffer);\n",
              "            downloaded += buffer.byteLength;\n",
              "            progress.value = downloaded;\n",
              "          }\n",
              "        }\n",
              "      }\n",
              "      const blob = new Blob(buffers, {type: 'application/binary'});\n",
              "      const a = document.createElement('a');\n",
              "      a.href = window.URL.createObjectURL(blob);\n",
              "      a.download = filename;\n",
              "      div.appendChild(a);\n",
              "      a.click();\n",
              "      div.remove();\n",
              "    }\n",
              "  "
            ]
          },
          "metadata": {}
        },
        {
          "output_type": "display_data",
          "data": {
            "text/plain": [
              "<IPython.core.display.Javascript object>"
            ],
            "application/javascript": [
              "download(\"download_3af61647-a006-49a9-93a9-a1986faa8d96\", \"india_last5_years.csv\", 1677130)"
            ]
          },
          "metadata": {}
        }
      ]
    },
    {
      "cell_type": "code",
      "source": [
        "# Get sorted list of unique player names\n",
        "unique_players = sorted(df_last5['player'].unique())\n",
        "\n",
        "# Print each with an index to help manual selection\n",
        "for i, player in enumerate(unique_players):\n",
        "    print(f\"{i+1}. {player}\")\n"
      ],
      "metadata": {
        "colab": {
          "base_uri": "https://localhost:8080/"
        },
        "id": "pvPFuE9nvdCC",
        "outputId": "ee91ecb6-b249-4222-aab5-5ae154831f85"
      },
      "execution_count": null,
      "outputs": [
        {
          "output_type": "stream",
          "name": "stdout",
          "text": [
            "1. A Reddy\n",
            "2. AB Kaur\n",
            "3. AR Patel\n",
            "4. Abhishek Sharma\n",
            "5. Arshdeep Singh\n",
            "6. Avesh Khan\n",
            "7. B Kumar\n",
            "8. C Sakariya\n",
            "9. CV Varun\n",
            "10. D Hemalatha\n",
            "11. D Padikkal\n",
            "12. DB Sharma\n",
            "13. DJ Hooda\n",
            "14. DL Chahar\n",
            "15. DP Vaidya\n",
            "16. Dhruv Jurel\n",
            "17. H Deol\n",
            "18. H Kaur\n",
            "19. HH Pandya\n",
            "20. HV Patel\n",
            "21. Ishan Kishan\n",
            "22. JI Rodrigues\n",
            "23. JJ Bumrah\n",
            "24. JM Sharma\n",
            "25. K Anjali Sarvani\n",
            "26. KD Karthik\n",
            "27. KH Pandya\n",
            "28. KK Ahmed\n",
            "29. KL Rahul\n",
            "30. KP Navgire\n",
            "31. KS Ahuja\n",
            "32. Kuldeep Yadav\n",
            "33. M Mani\n",
            "34. MK Pandey\n",
            "35. MP Yadav\n",
            "36. Meghna Singh\n",
            "37. Mohammed Shami\n",
            "38. Mohammed Siraj\n",
            "39. Mukesh Kumar\n",
            "40. N Rana\n",
            "41. Navdeep Saini\n",
            "42. Nithish Kumar Reddy\n",
            "43. P Vastrakar\n",
            "44. PP Shaw\n",
            "45. Poonam Yadav\n",
            "46. R Ashwin\n",
            "47. R Parag\n",
            "48. RA Jadeja\n",
            "49. RA Tripathi\n",
            "50. RD Chahar\n",
            "51. RD Gaikwad\n",
            "52. RG Sharma\n",
            "53. RK Singh\n",
            "54. RM Ghosh\n",
            "55. RP Yadav\n",
            "56. RR Pant\n",
            "57. RS Gayakwad\n",
            "58. Raghvi Bist\n",
            "59. Ramandeep Singh\n",
            "60. Ravi Bishnoi\n",
            "61. Renuka Singh\n",
            "62. S Asha\n",
            "63. S Dhawan\n",
            "64. S Dube\n",
            "65. S Ishaque\n",
            "66. S Mandhana\n",
            "67. S Meghana\n",
            "68. S Pandey\n",
            "69. S Rana\n",
            "70. S Sajana\n",
            "71. SA Yadav\n",
            "72. SD Bahadur\n",
            "73. SN Thakur\n",
            "74. SR Patil\n",
            "75. SS Iyer\n",
            "76. SV Samson\n",
            "77. SZ Thakor\n",
            "78. Shafali Verma\n",
            "79. Shivam Mavi\n",
            "80. Shubman Gill\n",
            "81. T Bhatia\n",
            "82. TR Sadhu\n",
            "83. Tilak Varma\n",
            "84. U Chetry\n",
            "85. UT Yadav\n",
            "86. Umran Malik\n",
            "87. V Kohli\n",
            "88. VR Iyer\n",
            "89. Washington Sundar\n",
            "90. YBK Jaiswal\n",
            "91. YH Bhatia\n",
            "92. YS Chahal\n"
          ]
        }
      ]
    },
    {
      "cell_type": "code",
      "source": [
        "female_players = [\n",
        "    \"A Reddy\",         # Anjali Reddy\n",
        "    \"AB Kaur\",         # Amanjot Kaur\n",
        "    \"D Hemalatha\",\n",
        "    \"DP Vaidya\",\n",
        "    \"H Deol\",          # Harleen Deol\n",
        "    \"H Kaur\",          # Harmanpreet Kaur\n",
        "    \"JI Rodrigues\",    # Jemimah Rodrigues\n",
        "    \"K Anjali Sarvani\",\n",
        "    \"KP Navgire\",      # Kiran Prabhu Navgire\n",
        "    \"M Mani\",          # Minnu Mani\n",
        "    \"MK Pandey\",       # Mandhana Pandey or possible confusion with Manish Pandey (keep if sure it's male)\n",
        "    \"MP Yadav\",        # Might be Monika Patel Yadav\n",
        "    \"Meghna Singh\",\n",
        "    \"P Vastrakar\",     # Pooja Vastrakar\n",
        "    \"Poonam Yadav\",\n",
        "    \"RM Ghosh\",        # Richa Ghosh\n",
        "    \"RS Gayakwad\",     # Rajeshwari Gayakwad\n",
        "    \"Raghvi Bist\",\n",
        "    \"Renuka Singh\",\n",
        "    \"S Asha\",\n",
        "    \"S Ishaque\",\n",
        "    \"S Mandhana\",      # Smriti Mandhana\n",
        "    \"S Meghana\",       # Sabbhineni Meghana\n",
        "    \"S Pandey\",        # Shikha Pandey\n",
        "    \"S Sajana\",\n",
        "    \"SD Bahadur\",\n",
        "    \"SR Patil\",        # Sushma Patil?\n",
        "    \"SZ Thakor\",\n",
        "    \"Shafali Verma\",\n",
        "    \"T Bhatia\",        # Taniya Bhatia\n",
        "    \"TR Sadhu\",\n",
        "    \"U Chetry\",        # Uma Chetry\n",
        "    \"YH Bhatia\"        # Yastika Bhatia\n",
        "]\n",
        "df_last5 = df_last5[~df_last5['player'].isin(female_players)]\n"
      ],
      "metadata": {
        "id": "XKBxCtquInPW"
      },
      "execution_count": null,
      "outputs": []
    },
    {
      "cell_type": "code",
      "source": [
        "print(\"Remaining unique players:\", df_last5['player'].nunique())\n",
        "print(sorted(df_last5['player'].unique()))\n"
      ],
      "metadata": {
        "colab": {
          "base_uri": "https://localhost:8080/"
        },
        "id": "xK21OXzPJLc3",
        "outputId": "b0c2bf3f-1048-47da-8e15-7209dba33bef"
      },
      "execution_count": null,
      "outputs": [
        {
          "output_type": "stream",
          "name": "stdout",
          "text": [
            "Remaining unique players: 59\n",
            "['AR Patel', 'Abhishek Sharma', 'Arshdeep Singh', 'Avesh Khan', 'B Kumar', 'C Sakariya', 'CV Varun', 'D Padikkal', 'DB Sharma', 'DJ Hooda', 'DL Chahar', 'Dhruv Jurel', 'HH Pandya', 'HV Patel', 'Ishan Kishan', 'JJ Bumrah', 'JM Sharma', 'KD Karthik', 'KH Pandya', 'KK Ahmed', 'KL Rahul', 'KS Ahuja', 'Kuldeep Yadav', 'Mohammed Shami', 'Mohammed Siraj', 'Mukesh Kumar', 'N Rana', 'Navdeep Saini', 'Nithish Kumar Reddy', 'PP Shaw', 'R Ashwin', 'R Parag', 'RA Jadeja', 'RA Tripathi', 'RD Chahar', 'RD Gaikwad', 'RG Sharma', 'RK Singh', 'RP Yadav', 'RR Pant', 'Ramandeep Singh', 'Ravi Bishnoi', 'S Dhawan', 'S Dube', 'S Rana', 'SA Yadav', 'SN Thakur', 'SS Iyer', 'SV Samson', 'Shivam Mavi', 'Shubman Gill', 'Tilak Varma', 'UT Yadav', 'Umran Malik', 'V Kohli', 'VR Iyer', 'Washington Sundar', 'YBK Jaiswal', 'YS Chahal']\n"
          ]
        }
      ]
    },
    {
      "cell_type": "code",
      "source": [
        "print(df_last5.head())"
      ],
      "metadata": {
        "colab": {
          "base_uri": "https://localhost:8080/"
        },
        "id": "2V_kl8S8JOM2",
        "outputId": "0aa2bcbb-b200-45a5-d415-6e59d44946b9"
      },
      "execution_count": null,
      "outputs": [
        {
          "output_type": "stream",
          "name": "stdout",
          "text": [
            "        player  runs  balls dismissed opponent       date  \\\n",
            "301  RG Sharma     6      1      None  England 2021-03-18   \n",
            "302  RG Sharma     0      1      None  England 2021-03-18   \n",
            "303  RG Sharma     4      1      None  England 2021-03-18   \n",
            "304  RG Sharma     0      1      None  England 2021-03-18   \n",
            "305  RG Sharma     1      1      None  England 2021-03-18   \n",
            "\n",
            "                     venue     type  \n",
            "301  Narendra Modi Stadium  batting  \n",
            "302  Narendra Modi Stadium  batting  \n",
            "303  Narendra Modi Stadium  batting  \n",
            "304  Narendra Modi Stadium  batting  \n",
            "305  Narendra Modi Stadium  batting  \n"
          ]
        }
      ]
    },
    {
      "cell_type": "code",
      "source": [
        "df_last5.to_csv(\"india_last5_years.csv\", index=False)\n",
        "from google.colab import files\n",
        "files.download(\"india_last5_years.csv\")"
      ],
      "metadata": {
        "colab": {
          "base_uri": "https://localhost:8080/",
          "height": 17
        },
        "id": "d3PEzTlwL_JW",
        "outputId": "964919cb-652f-4eed-d1c3-d73c78eecc11"
      },
      "execution_count": null,
      "outputs": [
        {
          "output_type": "display_data",
          "data": {
            "text/plain": [
              "<IPython.core.display.Javascript object>"
            ],
            "application/javascript": [
              "\n",
              "    async function download(id, filename, size) {\n",
              "      if (!google.colab.kernel.accessAllowed) {\n",
              "        return;\n",
              "      }\n",
              "      const div = document.createElement('div');\n",
              "      const label = document.createElement('label');\n",
              "      label.textContent = `Downloading \"${filename}\": `;\n",
              "      div.appendChild(label);\n",
              "      const progress = document.createElement('progress');\n",
              "      progress.max = size;\n",
              "      div.appendChild(progress);\n",
              "      document.body.appendChild(div);\n",
              "\n",
              "      const buffers = [];\n",
              "      let downloaded = 0;\n",
              "\n",
              "      const channel = await google.colab.kernel.comms.open(id);\n",
              "      // Send a message to notify the kernel that we're ready.\n",
              "      channel.send({})\n",
              "\n",
              "      for await (const message of channel.messages) {\n",
              "        // Send a message to notify the kernel that we're ready.\n",
              "        channel.send({})\n",
              "        if (message.buffers) {\n",
              "          for (const buffer of message.buffers) {\n",
              "            buffers.push(buffer);\n",
              "            downloaded += buffer.byteLength;\n",
              "            progress.value = downloaded;\n",
              "          }\n",
              "        }\n",
              "      }\n",
              "      const blob = new Blob(buffers, {type: 'application/binary'});\n",
              "      const a = document.createElement('a');\n",
              "      a.href = window.URL.createObjectURL(blob);\n",
              "      a.download = filename;\n",
              "      div.appendChild(a);\n",
              "      a.click();\n",
              "      div.remove();\n",
              "    }\n",
              "  "
            ]
          },
          "metadata": {}
        },
        {
          "output_type": "display_data",
          "data": {
            "text/plain": [
              "<IPython.core.display.Javascript object>"
            ],
            "application/javascript": [
              "download(\"download_9f1497d6-5591-4425-86e6-5ec178da95bd\", \"india_last5_years.csv\", 1064685)"
            ]
          },
          "metadata": {}
        }
      ]
    },
    {
      "cell_type": "code",
      "source": [
        "type_counts = df_last5.groupby(['player', 'type']).size().unstack(fill_value=0)\n"
      ],
      "metadata": {
        "id": "UlmotSiQhDie"
      },
      "execution_count": null,
      "outputs": []
    },
    {
      "cell_type": "code",
      "source": [
        "df_model = df_last5[['player', 'runs', 'balls', 'opponent', 'date', 'type']]  # you can customize this\n",
        "df_model['opponent'] = LabelEncoder().fit_transform(df_model['opponent'])\n",
        "df_model['type'] = LabelEncoder().fit_transform(df_model['type'])"
      ],
      "metadata": {
        "colab": {
          "base_uri": "https://localhost:8080/"
        },
        "id": "UkemjXxzL6g9",
        "outputId": "fc1d2d34-d34b-467e-cfca-36e15c1c0df5"
      },
      "execution_count": null,
      "outputs": [
        {
          "output_type": "stream",
          "name": "stderr",
          "text": [
            "<ipython-input-31-5d7f633ad0d4>:2: SettingWithCopyWarning: \n",
            "A value is trying to be set on a copy of a slice from a DataFrame.\n",
            "Try using .loc[row_indexer,col_indexer] = value instead\n",
            "\n",
            "See the caveats in the documentation: https://pandas.pydata.org/pandas-docs/stable/user_guide/indexing.html#returning-a-view-versus-a-copy\n",
            "  df_model['opponent'] = LabelEncoder().fit_transform(df_model['opponent'])\n",
            "<ipython-input-31-5d7f633ad0d4>:3: SettingWithCopyWarning: \n",
            "A value is trying to be set on a copy of a slice from a DataFrame.\n",
            "Try using .loc[row_indexer,col_indexer] = value instead\n",
            "\n",
            "See the caveats in the documentation: https://pandas.pydata.org/pandas-docs/stable/user_guide/indexing.html#returning-a-view-versus-a-copy\n",
            "  df_model['type'] = LabelEncoder().fit_transform(df_model['type'])\n"
          ]
        }
      ]
    },
    {
      "cell_type": "code",
      "source": [
        "df_model = df_model.sort_values(by=['player', 'date'])\n"
      ],
      "metadata": {
        "id": "4oHzOkhpMK_d"
      },
      "execution_count": null,
      "outputs": []
    },
    {
      "cell_type": "code",
      "source": [
        "sequence_length = 5\n",
        "player_sequences = []\n",
        "\n",
        "grouped = df_model.groupby('player')\n",
        "\n",
        "for player, group in grouped:\n",
        "    group = group.reset_index(drop=True)\n",
        "    for i in range(len(group) - sequence_length):\n",
        "        sequence = group.iloc[i:i+sequence_length][['runs', 'balls', 'opponent', 'type']].values\n",
        "        target = group.iloc[i+sequence_length]['runs']  # or a binary flag (in top 11 = 1)\n",
        "        player_sequences.append((sequence, target))\n"
      ],
      "metadata": {
        "id": "J_hZxbLsMdq1"
      },
      "execution_count": null,
      "outputs": []
    },
    {
      "cell_type": "code",
      "source": [
        "from sklearn.model_selection import train_test_split\n",
        "import numpy as np\n",
        "\n",
        "X = np.array([seq for seq, _ in player_sequences])\n",
        "y = np.array([target for _, target in player_sequences])\n",
        "\n",
        "X_train, X_test, y_train, y_test = train_test_split(X, y, test_size=0.2, random_state=42)\n"
      ],
      "metadata": {
        "id": "oELbKgJsMgGJ"
      },
      "execution_count": null,
      "outputs": []
    },
    {
      "cell_type": "code",
      "source": [
        "model = Sequential()\n",
        "model.add(LSTM(64, input_shape=(X_train.shape[1], X_train.shape[2]), return_sequences=False))\n",
        "model.add(Dropout(0.2))\n",
        "model.add(Dense(32, activation='relu'))\n",
        "model.add(Dense(1))  # Single output: run prediction or score\n"
      ],
      "metadata": {
        "colab": {
          "base_uri": "https://localhost:8080/"
        },
        "id": "k4UGzorPNaF4",
        "outputId": "e526b75d-b387-454e-9db6-1fb579b93217"
      },
      "execution_count": null,
      "outputs": [
        {
          "output_type": "stream",
          "name": "stderr",
          "text": [
            "/usr/local/lib/python3.11/dist-packages/keras/src/layers/rnn/rnn.py:200: UserWarning: Do not pass an `input_shape`/`input_dim` argument to a layer. When using Sequential models, prefer using an `Input(shape)` object as the first layer in the model instead.\n",
            "  super().__init__(**kwargs)\n"
          ]
        }
      ]
    },
    {
      "cell_type": "code",
      "source": [
        "model.compile(optimizer='adam', loss='mse', metrics=['mae'])\n"
      ],
      "metadata": {
        "id": "Uh2OYICvO6-U"
      },
      "execution_count": null,
      "outputs": []
    },
    {
      "cell_type": "code",
      "source": [
        "history = model.fit(X_train, y_train, epochs=20, batch_size=32, validation_split=0.2)\n"
      ],
      "metadata": {
        "colab": {
          "base_uri": "https://localhost:8080/"
        },
        "id": "rT_UhZmTSfrh",
        "outputId": "03ad4654-e61d-4796-c4e3-352b60104246"
      },
      "execution_count": null,
      "outputs": [
        {
          "output_type": "stream",
          "name": "stdout",
          "text": [
            "Epoch 1/20\n",
            "\u001b[1m255/255\u001b[0m \u001b[32m━━━━━━━━━━━━━━━━━━━━\u001b[0m\u001b[37m\u001b[0m \u001b[1m6s\u001b[0m 9ms/step - loss: 3.2167 - mae: 1.3088 - val_loss: 2.9009 - val_mae: 1.2423\n",
            "Epoch 2/20\n",
            "\u001b[1m255/255\u001b[0m \u001b[32m━━━━━━━━━━━━━━━━━━━━\u001b[0m\u001b[37m\u001b[0m \u001b[1m3s\u001b[0m 10ms/step - loss: 3.1781 - mae: 1.3698 - val_loss: 2.9106 - val_mae: 1.3097\n",
            "Epoch 3/20\n",
            "\u001b[1m255/255\u001b[0m \u001b[32m━━━━━━━━━━━━━━━━━━━━\u001b[0m\u001b[37m\u001b[0m \u001b[1m2s\u001b[0m 7ms/step - loss: 3.0425 - mae: 1.3262 - val_loss: 2.8983 - val_mae: 1.2031\n",
            "Epoch 4/20\n",
            "\u001b[1m255/255\u001b[0m \u001b[32m━━━━━━━━━━━━━━━━━━━━\u001b[0m\u001b[37m\u001b[0m \u001b[1m2s\u001b[0m 7ms/step - loss: 3.0430 - mae: 1.3114 - val_loss: 2.8905 - val_mae: 1.2442\n",
            "Epoch 5/20\n",
            "\u001b[1m255/255\u001b[0m \u001b[32m━━━━━━━━━━━━━━━━━━━━\u001b[0m\u001b[37m\u001b[0m \u001b[1m2s\u001b[0m 6ms/step - loss: 2.9896 - mae: 1.2939 - val_loss: 2.8922 - val_mae: 1.2500\n",
            "Epoch 6/20\n",
            "\u001b[1m255/255\u001b[0m \u001b[32m━━━━━━━━━━━━━━━━━━━━\u001b[0m\u001b[37m\u001b[0m \u001b[1m1s\u001b[0m 6ms/step - loss: 3.0057 - mae: 1.3117 - val_loss: 2.8915 - val_mae: 1.2681\n",
            "Epoch 7/20\n",
            "\u001b[1m255/255\u001b[0m \u001b[32m━━━━━━━━━━━━━━━━━━━━\u001b[0m\u001b[37m\u001b[0m \u001b[1m2s\u001b[0m 6ms/step - loss: 2.9632 - mae: 1.3095 - val_loss: 2.9134 - val_mae: 1.3340\n",
            "Epoch 8/20\n",
            "\u001b[1m255/255\u001b[0m \u001b[32m━━━━━━━━━━━━━━━━━━━━\u001b[0m\u001b[37m\u001b[0m \u001b[1m2s\u001b[0m 6ms/step - loss: 3.0318 - mae: 1.3314 - val_loss: 2.8911 - val_mae: 1.2789\n",
            "Epoch 9/20\n",
            "\u001b[1m255/255\u001b[0m \u001b[32m━━━━━━━━━━━━━━━━━━━━\u001b[0m\u001b[37m\u001b[0m \u001b[1m2s\u001b[0m 9ms/step - loss: 2.9697 - mae: 1.2967 - val_loss: 2.9098 - val_mae: 1.3134\n",
            "Epoch 10/20\n",
            "\u001b[1m255/255\u001b[0m \u001b[32m━━━━━━━━━━━━━━━━━━━━\u001b[0m\u001b[37m\u001b[0m \u001b[1m2s\u001b[0m 7ms/step - loss: 2.9639 - mae: 1.2977 - val_loss: 2.8988 - val_mae: 1.2820\n",
            "Epoch 11/20\n",
            "\u001b[1m255/255\u001b[0m \u001b[32m━━━━━━━━━━━━━━━━━━━━\u001b[0m\u001b[37m\u001b[0m \u001b[1m2s\u001b[0m 6ms/step - loss: 3.0265 - mae: 1.3096 - val_loss: 2.8926 - val_mae: 1.2651\n",
            "Epoch 12/20\n",
            "\u001b[1m255/255\u001b[0m \u001b[32m━━━━━━━━━━━━━━━━━━━━\u001b[0m\u001b[37m\u001b[0m \u001b[1m2s\u001b[0m 6ms/step - loss: 3.0694 - mae: 1.3358 - val_loss: 2.8869 - val_mae: 1.2625\n",
            "Epoch 13/20\n",
            "\u001b[1m255/255\u001b[0m \u001b[32m━━━━━━━━━━━━━━━━━━━━\u001b[0m\u001b[37m\u001b[0m \u001b[1m3s\u001b[0m 7ms/step - loss: 2.9791 - mae: 1.3052 - val_loss: 2.9029 - val_mae: 1.1840\n",
            "Epoch 14/20\n",
            "\u001b[1m255/255\u001b[0m \u001b[32m━━━━━━━━━━━━━━━━━━━━\u001b[0m\u001b[37m\u001b[0m \u001b[1m2s\u001b[0m 8ms/step - loss: 2.9420 - mae: 1.2816 - val_loss: 2.8952 - val_mae: 1.2951\n",
            "Epoch 15/20\n",
            "\u001b[1m255/255\u001b[0m \u001b[32m━━━━━━━━━━━━━━━━━━━━\u001b[0m\u001b[37m\u001b[0m \u001b[1m3s\u001b[0m 8ms/step - loss: 3.0422 - mae: 1.3380 - val_loss: 2.9118 - val_mae: 1.3262\n",
            "Epoch 16/20\n",
            "\u001b[1m255/255\u001b[0m \u001b[32m━━━━━━━━━━━━━━━━━━━━\u001b[0m\u001b[37m\u001b[0m \u001b[1m2s\u001b[0m 6ms/step - loss: 3.0567 - mae: 1.3367 - val_loss: 2.8898 - val_mae: 1.2450\n",
            "Epoch 17/20\n",
            "\u001b[1m255/255\u001b[0m \u001b[32m━━━━━━━━━━━━━━━━━━━━\u001b[0m\u001b[37m\u001b[0m \u001b[1m2s\u001b[0m 6ms/step - loss: 2.9595 - mae: 1.2934 - val_loss: 2.8925 - val_mae: 1.2298\n",
            "Epoch 18/20\n",
            "\u001b[1m255/255\u001b[0m \u001b[32m━━━━━━━━━━━━━━━━━━━━\u001b[0m\u001b[37m\u001b[0m \u001b[1m3s\u001b[0m 7ms/step - loss: 2.8884 - mae: 1.2570 - val_loss: 2.8894 - val_mae: 1.2288\n",
            "Epoch 19/20\n",
            "\u001b[1m255/255\u001b[0m \u001b[32m━━━━━━━━━━━━━━━━━━━━\u001b[0m\u001b[37m\u001b[0m \u001b[1m3s\u001b[0m 8ms/step - loss: 2.9285 - mae: 1.2917 - val_loss: 2.9075 - val_mae: 1.3242\n",
            "Epoch 20/20\n",
            "\u001b[1m255/255\u001b[0m \u001b[32m━━━━━━━━━━━━━━━━━━━━\u001b[0m\u001b[37m\u001b[0m \u001b[1m2s\u001b[0m 8ms/step - loss: 2.9802 - mae: 1.3151 - val_loss: 2.8985 - val_mae: 1.3007\n"
          ]
        }
      ]
    },
    {
      "cell_type": "code",
      "source": [
        "loss, mae = model.evaluate(X_test, y_test)\n",
        "print(f\"Test MAE: {mae}\")\n"
      ],
      "metadata": {
        "colab": {
          "base_uri": "https://localhost:8080/"
        },
        "id": "SNMLljroSktQ",
        "outputId": "ac43ed60-0dc2-4f72-d513-432f65d2a251"
      },
      "execution_count": null,
      "outputs": [
        {
          "output_type": "stream",
          "name": "stdout",
          "text": [
            "\u001b[1m80/80\u001b[0m \u001b[32m━━━━━━━━━━━━━━━━━━━━\u001b[0m\u001b[37m\u001b[0m \u001b[1m0s\u001b[0m 5ms/step - loss: 2.9675 - mae: 1.3195\n",
            "Test MAE: 1.3345485925674438\n"
          ]
        }
      ]
    },
    {
      "cell_type": "code",
      "source": [
        "latest_sequences = []\n",
        "latest_players = []\n",
        "\n",
        "grouped = df_model.groupby('player')\n",
        "\n",
        "for player, group in grouped:\n",
        "    group = group.sort_values(by='date').reset_index(drop=True)\n",
        "\n",
        "    if len(group) >= sequence_length:\n",
        "        latest_seq = group.iloc[-sequence_length:][['runs', 'balls', 'opponent', 'type']].values\n",
        "        latest_sequences.append(latest_seq)\n",
        "        latest_players.append(player)\n"
      ],
      "metadata": {
        "id": "pSiVJr_CS0v-"
      },
      "execution_count": null,
      "outputs": []
    },
    {
      "cell_type": "code",
      "source": [
        "latest_sequences = np.array(latest_sequences)\n",
        "preds = model.predict(latest_sequences).flatten()\n"
      ],
      "metadata": {
        "colab": {
          "base_uri": "https://localhost:8080/"
        },
        "id": "xCxOHlwBU3US",
        "outputId": "2e71f442-59bb-4374-e04a-677b6ecbc326"
      },
      "execution_count": null,
      "outputs": [
        {
          "output_type": "stream",
          "name": "stdout",
          "text": [
            "\u001b[1m2/2\u001b[0m \u001b[32m━━━━━━━━━━━━━━━━━━━━\u001b[0m\u001b[37m\u001b[0m \u001b[1m1s\u001b[0m 376ms/step\n"
          ]
        }
      ]
    },
    {
      "cell_type": "code",
      "source": [
        "# Pair players with their predicted values\n",
        "player_scores = list(zip(latest_players, preds))\n",
        "\n",
        "# Sort by predicted score descending\n",
        "top_11 = sorted(player_scores, key=lambda x: x[1], reverse=True)[:11]\n",
        "\n",
        "# Print results\n",
        "print(\"🏏 Top 11 Predicted Players:\")\n",
        "for i, (player, score) in enumerate(top_11, 1):\n",
        "    print(f\"{i}. {player} — Predicted Score: {score:.2f}\")\n"
      ],
      "metadata": {
        "colab": {
          "base_uri": "https://localhost:8080/"
        },
        "id": "5vanhy7XVG9Y",
        "outputId": "0bcffcbc-5b43-4b50-f7b1-325ca944bc3d"
      },
      "execution_count": null,
      "outputs": [
        {
          "output_type": "stream",
          "name": "stdout",
          "text": [
            "🏏 Top 11 Predicted Players:\n",
            "1. R Parag — Predicted Score: 1.73\n",
            "2. R Ashwin — Predicted Score: 1.70\n",
            "3. SS Iyer — Predicted Score: 1.63\n",
            "4. AR Patel — Predicted Score: 1.57\n",
            "5. RA Tripathi — Predicted Score: 1.55\n",
            "6. HV Patel — Predicted Score: 1.53\n",
            "7. SV Samson — Predicted Score: 1.52\n",
            "8. Abhishek Sharma — Predicted Score: 1.52\n",
            "9. Tilak Varma — Predicted Score: 1.50\n",
            "10. RK Singh — Predicted Score: 1.49\n",
            "11. S Dube — Predicted Score: 1.46\n"
          ]
        }
      ]
    }
  ]
}